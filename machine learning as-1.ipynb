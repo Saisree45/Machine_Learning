{
 "cells": [
  {
   "cell_type": "code",
   "execution_count": 5,
   "id": "ea636956",
   "metadata": {},
   "outputs": [],
   "source": [
    "import numpy as np\n",
    "import pandas as pd\n",
    "import matplotlib.pyplot as plt\n",
    "from pandas import read_csv\n",
    "import seaborn as sns"
   ]
  },
  {
   "cell_type": "code",
   "execution_count": 6,
   "id": "5069ff90",
   "metadata": {},
   "outputs": [],
   "source": [
    "url='https://raw.githubusercontent.com/Saisree45/machinelearningas1/main/myClassDataSet.csv'"
   ]
  },
  {
   "cell_type": "code",
   "execution_count": 7,
   "id": "90a74f7e",
   "metadata": {},
   "outputs": [],
   "source": [
    "data_file=pd.read_csv(url)"
   ]
  },
  {
   "cell_type": "code",
   "execution_count": 8,
   "id": "26a2fd24",
   "metadata": {},
   "outputs": [
    {
     "data": {
      "text/html": [
       "<div>\n",
       "<style scoped>\n",
       "    .dataframe tbody tr th:only-of-type {\n",
       "        vertical-align: middle;\n",
       "    }\n",
       "\n",
       "    .dataframe tbody tr th {\n",
       "        vertical-align: top;\n",
       "    }\n",
       "\n",
       "    .dataframe thead th {\n",
       "        text-align: right;\n",
       "    }\n",
       "</style>\n",
       "<table border=\"1\" class=\"dataframe\">\n",
       "  <thead>\n",
       "    <tr style=\"text-align: right;\">\n",
       "      <th></th>\n",
       "      <th>f1</th>\n",
       "      <th>f2</th>\n",
       "      <th>f3</th>\n",
       "      <th>f4</th>\n",
       "      <th>f5</th>\n",
       "      <th>f6</th>\n",
       "      <th>f7</th>\n",
       "      <th>f8</th>\n",
       "      <th>class</th>\n",
       "    </tr>\n",
       "  </thead>\n",
       "  <tbody>\n",
       "    <tr>\n",
       "      <th>0</th>\n",
       "      <td>3.125845</td>\n",
       "      <td>4.213543</td>\n",
       "      <td>2.786926</td>\n",
       "      <td>0.832175</td>\n",
       "      <td>-1.178735</td>\n",
       "      <td>3.581140</td>\n",
       "      <td>-2.352872</td>\n",
       "      <td>7.804524</td>\n",
       "      <td>0</td>\n",
       "    </tr>\n",
       "    <tr>\n",
       "      <th>1</th>\n",
       "      <td>2.092247</td>\n",
       "      <td>3.383249</td>\n",
       "      <td>0.434993</td>\n",
       "      <td>2.003855</td>\n",
       "      <td>-2.525389</td>\n",
       "      <td>2.231663</td>\n",
       "      <td>-1.043635</td>\n",
       "      <td>7.149358</td>\n",
       "      <td>0</td>\n",
       "    </tr>\n",
       "    <tr>\n",
       "      <th>2</th>\n",
       "      <td>1.028549</td>\n",
       "      <td>3.944043</td>\n",
       "      <td>0.059291</td>\n",
       "      <td>0.011443</td>\n",
       "      <td>-1.309637</td>\n",
       "      <td>1.272289</td>\n",
       "      <td>-1.005366</td>\n",
       "      <td>7.434625</td>\n",
       "      <td>0</td>\n",
       "    </tr>\n",
       "    <tr>\n",
       "      <th>3</th>\n",
       "      <td>1.331028</td>\n",
       "      <td>4.920674</td>\n",
       "      <td>2.063895</td>\n",
       "      <td>1.424668</td>\n",
       "      <td>-1.073122</td>\n",
       "      <td>1.088142</td>\n",
       "      <td>-1.211250</td>\n",
       "      <td>8.603362</td>\n",
       "      <td>0</td>\n",
       "    </tr>\n",
       "    <tr>\n",
       "      <th>4</th>\n",
       "      <td>0.699447</td>\n",
       "      <td>5.427693</td>\n",
       "      <td>1.881804</td>\n",
       "      <td>0.387634</td>\n",
       "      <td>-0.134386</td>\n",
       "      <td>3.955468</td>\n",
       "      <td>-1.229464</td>\n",
       "      <td>7.241683</td>\n",
       "      <td>0</td>\n",
       "    </tr>\n",
       "    <tr>\n",
       "      <th>...</th>\n",
       "      <td>...</td>\n",
       "      <td>...</td>\n",
       "      <td>...</td>\n",
       "      <td>...</td>\n",
       "      <td>...</td>\n",
       "      <td>...</td>\n",
       "      <td>...</td>\n",
       "      <td>...</td>\n",
       "      <td>...</td>\n",
       "    </tr>\n",
       "    <tr>\n",
       "      <th>995</th>\n",
       "      <td>8.065589</td>\n",
       "      <td>-2.876613</td>\n",
       "      <td>7.387783</td>\n",
       "      <td>0.685190</td>\n",
       "      <td>2.896235</td>\n",
       "      <td>8.326981</td>\n",
       "      <td>-8.756062</td>\n",
       "      <td>-10.456668</td>\n",
       "      <td>1</td>\n",
       "    </tr>\n",
       "    <tr>\n",
       "      <th>996</th>\n",
       "      <td>-0.165631</td>\n",
       "      <td>2.992817</td>\n",
       "      <td>0.522346</td>\n",
       "      <td>-0.814307</td>\n",
       "      <td>-1.480769</td>\n",
       "      <td>1.959508</td>\n",
       "      <td>-1.329067</td>\n",
       "      <td>7.131601</td>\n",
       "      <td>0</td>\n",
       "    </tr>\n",
       "    <tr>\n",
       "      <th>997</th>\n",
       "      <td>8.752156</td>\n",
       "      <td>-0.448005</td>\n",
       "      <td>5.699655</td>\n",
       "      <td>0.646043</td>\n",
       "      <td>0.691320</td>\n",
       "      <td>8.557304</td>\n",
       "      <td>-8.199507</td>\n",
       "      <td>-8.732978</td>\n",
       "      <td>1</td>\n",
       "    </tr>\n",
       "    <tr>\n",
       "      <th>998</th>\n",
       "      <td>9.486646</td>\n",
       "      <td>-3.418626</td>\n",
       "      <td>4.947159</td>\n",
       "      <td>-0.362406</td>\n",
       "      <td>3.283010</td>\n",
       "      <td>7.685236</td>\n",
       "      <td>-10.101643</td>\n",
       "      <td>-7.335390</td>\n",
       "      <td>1</td>\n",
       "    </tr>\n",
       "    <tr>\n",
       "      <th>999</th>\n",
       "      <td>8.711242</td>\n",
       "      <td>-2.375458</td>\n",
       "      <td>5.829764</td>\n",
       "      <td>1.262084</td>\n",
       "      <td>-0.799380</td>\n",
       "      <td>8.314573</td>\n",
       "      <td>-9.811812</td>\n",
       "      <td>-6.565574</td>\n",
       "      <td>1</td>\n",
       "    </tr>\n",
       "  </tbody>\n",
       "</table>\n",
       "<p>1000 rows × 9 columns</p>\n",
       "</div>"
      ],
      "text/plain": [
       "           f1        f2        f3        f4        f5        f6         f7  \\\n",
       "0    3.125845  4.213543  2.786926  0.832175 -1.178735  3.581140  -2.352872   \n",
       "1    2.092247  3.383249  0.434993  2.003855 -2.525389  2.231663  -1.043635   \n",
       "2    1.028549  3.944043  0.059291  0.011443 -1.309637  1.272289  -1.005366   \n",
       "3    1.331028  4.920674  2.063895  1.424668 -1.073122  1.088142  -1.211250   \n",
       "4    0.699447  5.427693  1.881804  0.387634 -0.134386  3.955468  -1.229464   \n",
       "..        ...       ...       ...       ...       ...       ...        ...   \n",
       "995  8.065589 -2.876613  7.387783  0.685190  2.896235  8.326981  -8.756062   \n",
       "996 -0.165631  2.992817  0.522346 -0.814307 -1.480769  1.959508  -1.329067   \n",
       "997  8.752156 -0.448005  5.699655  0.646043  0.691320  8.557304  -8.199507   \n",
       "998  9.486646 -3.418626  4.947159 -0.362406  3.283010  7.685236 -10.101643   \n",
       "999  8.711242 -2.375458  5.829764  1.262084 -0.799380  8.314573  -9.811812   \n",
       "\n",
       "            f8  class  \n",
       "0     7.804524      0  \n",
       "1     7.149358      0  \n",
       "2     7.434625      0  \n",
       "3     8.603362      0  \n",
       "4     7.241683      0  \n",
       "..         ...    ...  \n",
       "995 -10.456668      1  \n",
       "996   7.131601      0  \n",
       "997  -8.732978      1  \n",
       "998  -7.335390      1  \n",
       "999  -6.565574      1  \n",
       "\n",
       "[1000 rows x 9 columns]"
      ]
     },
     "execution_count": 8,
     "metadata": {},
     "output_type": "execute_result"
    }
   ],
   "source": [
    "data_file"
   ]
  },
  {
   "cell_type": "code",
   "execution_count": 9,
   "id": "b49bfa6e",
   "metadata": {},
   "outputs": [
    {
     "data": {
      "text/plain": [
       "f1       1000\n",
       "f2       1000\n",
       "f3       1000\n",
       "f4       1000\n",
       "f5       1000\n",
       "f6       1000\n",
       "f7       1000\n",
       "f8       1000\n",
       "class    1000\n",
       "dtype: int64"
      ]
     },
     "execution_count": 9,
     "metadata": {},
     "output_type": "execute_result"
    }
   ],
   "source": [
    "#printing the count of the uploaded file\n",
    "data_file.count() "
   ]
  },
  {
   "cell_type": "code",
   "execution_count": 10,
   "id": "2ca77b20",
   "metadata": {},
   "outputs": [
    {
     "data": {
      "text/plain": [
       "0      9\n",
       "1      9\n",
       "2      9\n",
       "3      9\n",
       "4      9\n",
       "      ..\n",
       "995    9\n",
       "996    9\n",
       "997    9\n",
       "998    9\n",
       "999    9\n",
       "Length: 1000, dtype: int64"
      ]
     },
     "execution_count": 10,
     "metadata": {},
     "output_type": "execute_result"
    }
   ],
   "source": [
    "data_file.count(axis='columns')"
   ]
  },
  {
   "cell_type": "code",
   "execution_count": 11,
   "id": "4da25ba3",
   "metadata": {},
   "outputs": [
    {
     "name": "stdout",
     "output_type": "stream",
     "text": [
      "\n",
      " Dataframe shape:  (1000, 9)\n",
      "\n",
      " Number of rows:  1000\n",
      "\n",
      " Number of columns: 9\n"
     ]
    }
   ],
   "source": [
    "#printing the shape of the data\n",
    "shape=data_file.shape\n",
    "print('\\n Dataframe shape: ', shape)\n",
    "print('\\n Number of rows: ', shape[0])\n",
    "print('\\n Number of columns:', shape[1])"
   ]
  },
  {
   "cell_type": "code",
   "execution_count": 8,
   "id": "86db6394",
   "metadata": {},
   "outputs": [
    {
     "name": "stdout",
     "output_type": "stream",
     "text": [
      "<class 'pandas.core.frame.DataFrame'>\n",
      "RangeIndex: 1000 entries, 0 to 999\n",
      "Data columns (total 9 columns):\n",
      " #   Column  Non-Null Count  Dtype  \n",
      "---  ------  --------------  -----  \n",
      " 0   f1      1000 non-null   float64\n",
      " 1   f2      1000 non-null   float64\n",
      " 2   f3      1000 non-null   float64\n",
      " 3   f4      1000 non-null   float64\n",
      " 4   f5      1000 non-null   float64\n",
      " 5   f6      1000 non-null   float64\n",
      " 6   f7      1000 non-null   float64\n",
      " 7   f8      1000 non-null   float64\n",
      " 8   class   1000 non-null   int64  \n",
      "dtypes: float64(8), int64(1)\n",
      "memory usage: 70.4 KB\n"
     ]
    }
   ],
   "source": [
    "Info_display=data_file.info()"
   ]
  },
  {
   "cell_type": "code",
   "execution_count": 9,
   "id": "030475ef",
   "metadata": {},
   "outputs": [
    {
     "data": {
      "text/html": [
       "<div>\n",
       "<style scoped>\n",
       "    .dataframe tbody tr th:only-of-type {\n",
       "        vertical-align: middle;\n",
       "    }\n",
       "\n",
       "    .dataframe tbody tr th {\n",
       "        vertical-align: top;\n",
       "    }\n",
       "\n",
       "    .dataframe thead th {\n",
       "        text-align: right;\n",
       "    }\n",
       "</style>\n",
       "<table border=\"1\" class=\"dataframe\">\n",
       "  <thead>\n",
       "    <tr style=\"text-align: right;\">\n",
       "      <th></th>\n",
       "      <th>f1</th>\n",
       "      <th>f2</th>\n",
       "      <th>f3</th>\n",
       "      <th>f4</th>\n",
       "      <th>f5</th>\n",
       "      <th>f6</th>\n",
       "      <th>f7</th>\n",
       "      <th>f8</th>\n",
       "      <th>class</th>\n",
       "    </tr>\n",
       "  </thead>\n",
       "  <tbody>\n",
       "    <tr>\n",
       "      <th>0</th>\n",
       "      <td>3.125845</td>\n",
       "      <td>4.213543</td>\n",
       "      <td>2.786926</td>\n",
       "      <td>0.832175</td>\n",
       "      <td>-1.178735</td>\n",
       "      <td>3.581140</td>\n",
       "      <td>-2.352872</td>\n",
       "      <td>7.804524</td>\n",
       "      <td>0</td>\n",
       "    </tr>\n",
       "    <tr>\n",
       "      <th>1</th>\n",
       "      <td>2.092247</td>\n",
       "      <td>3.383249</td>\n",
       "      <td>0.434993</td>\n",
       "      <td>2.003855</td>\n",
       "      <td>-2.525389</td>\n",
       "      <td>2.231663</td>\n",
       "      <td>-1.043635</td>\n",
       "      <td>7.149358</td>\n",
       "      <td>0</td>\n",
       "    </tr>\n",
       "    <tr>\n",
       "      <th>2</th>\n",
       "      <td>1.028549</td>\n",
       "      <td>3.944043</td>\n",
       "      <td>0.059291</td>\n",
       "      <td>0.011443</td>\n",
       "      <td>-1.309637</td>\n",
       "      <td>1.272289</td>\n",
       "      <td>-1.005366</td>\n",
       "      <td>7.434625</td>\n",
       "      <td>0</td>\n",
       "    </tr>\n",
       "    <tr>\n",
       "      <th>3</th>\n",
       "      <td>1.331028</td>\n",
       "      <td>4.920674</td>\n",
       "      <td>2.063895</td>\n",
       "      <td>1.424668</td>\n",
       "      <td>-1.073122</td>\n",
       "      <td>1.088142</td>\n",
       "      <td>-1.211250</td>\n",
       "      <td>8.603362</td>\n",
       "      <td>0</td>\n",
       "    </tr>\n",
       "    <tr>\n",
       "      <th>4</th>\n",
       "      <td>0.699447</td>\n",
       "      <td>5.427693</td>\n",
       "      <td>1.881804</td>\n",
       "      <td>0.387634</td>\n",
       "      <td>-0.134386</td>\n",
       "      <td>3.955468</td>\n",
       "      <td>-1.229464</td>\n",
       "      <td>7.241683</td>\n",
       "      <td>0</td>\n",
       "    </tr>\n",
       "  </tbody>\n",
       "</table>\n",
       "</div>"
      ],
      "text/plain": [
       "         f1        f2        f3        f4        f5        f6        f7  \\\n",
       "0  3.125845  4.213543  2.786926  0.832175 -1.178735  3.581140 -2.352872   \n",
       "1  2.092247  3.383249  0.434993  2.003855 -2.525389  2.231663 -1.043635   \n",
       "2  1.028549  3.944043  0.059291  0.011443 -1.309637  1.272289 -1.005366   \n",
       "3  1.331028  4.920674  2.063895  1.424668 -1.073122  1.088142 -1.211250   \n",
       "4  0.699447  5.427693  1.881804  0.387634 -0.134386  3.955468 -1.229464   \n",
       "\n",
       "         f8  class  \n",
       "0  7.804524      0  \n",
       "1  7.149358      0  \n",
       "2  7.434625      0  \n",
       "3  8.603362      0  \n",
       "4  7.241683      0  "
      ]
     },
     "execution_count": 9,
     "metadata": {},
     "output_type": "execute_result"
    }
   ],
   "source": [
    "data_file.head()"
   ]
  },
  {
   "cell_type": "code",
   "execution_count": 10,
   "id": "dd1f7357",
   "metadata": {},
   "outputs": [],
   "source": [
    "pd.set_option('display.max_colwidth', 100)  #Set_option()WIDTH"
   ]
  },
  {
   "cell_type": "code",
   "execution_count": 11,
   "id": "ec31259e",
   "metadata": {},
   "outputs": [],
   "source": [
    "pd.set_option('display.precision',3)     #SET_OPTION()PRECISION"
   ]
  },
  {
   "cell_type": "code",
   "execution_count": 12,
   "id": "8c3850f8",
   "metadata": {},
   "outputs": [
    {
     "data": {
      "text/html": [
       "<div>\n",
       "<style scoped>\n",
       "    .dataframe tbody tr th:only-of-type {\n",
       "        vertical-align: middle;\n",
       "    }\n",
       "\n",
       "    .dataframe tbody tr th {\n",
       "        vertical-align: top;\n",
       "    }\n",
       "\n",
       "    .dataframe thead th {\n",
       "        text-align: right;\n",
       "    }\n",
       "</style>\n",
       "<table border=\"1\" class=\"dataframe\">\n",
       "  <thead>\n",
       "    <tr style=\"text-align: right;\">\n",
       "      <th></th>\n",
       "      <th>f1</th>\n",
       "      <th>f2</th>\n",
       "      <th>f3</th>\n",
       "      <th>f4</th>\n",
       "      <th>f5</th>\n",
       "      <th>f6</th>\n",
       "      <th>f7</th>\n",
       "      <th>f8</th>\n",
       "      <th>class</th>\n",
       "    </tr>\n",
       "  </thead>\n",
       "  <tbody>\n",
       "    <tr>\n",
       "      <th>0</th>\n",
       "      <td>3.126</td>\n",
       "      <td>4.214</td>\n",
       "      <td>2.787</td>\n",
       "      <td>0.832</td>\n",
       "      <td>-1.179</td>\n",
       "      <td>3.581</td>\n",
       "      <td>-2.353</td>\n",
       "      <td>7.805</td>\n",
       "      <td>0</td>\n",
       "    </tr>\n",
       "    <tr>\n",
       "      <th>1</th>\n",
       "      <td>2.092</td>\n",
       "      <td>3.383</td>\n",
       "      <td>0.435</td>\n",
       "      <td>2.004</td>\n",
       "      <td>-2.525</td>\n",
       "      <td>2.232</td>\n",
       "      <td>-1.044</td>\n",
       "      <td>7.149</td>\n",
       "      <td>0</td>\n",
       "    </tr>\n",
       "    <tr>\n",
       "      <th>2</th>\n",
       "      <td>1.029</td>\n",
       "      <td>3.944</td>\n",
       "      <td>0.059</td>\n",
       "      <td>0.011</td>\n",
       "      <td>-1.310</td>\n",
       "      <td>1.272</td>\n",
       "      <td>-1.005</td>\n",
       "      <td>7.435</td>\n",
       "      <td>0</td>\n",
       "    </tr>\n",
       "    <tr>\n",
       "      <th>3</th>\n",
       "      <td>1.331</td>\n",
       "      <td>4.921</td>\n",
       "      <td>2.064</td>\n",
       "      <td>1.425</td>\n",
       "      <td>-1.073</td>\n",
       "      <td>1.088</td>\n",
       "      <td>-1.211</td>\n",
       "      <td>8.603</td>\n",
       "      <td>0</td>\n",
       "    </tr>\n",
       "    <tr>\n",
       "      <th>4</th>\n",
       "      <td>0.699</td>\n",
       "      <td>5.428</td>\n",
       "      <td>1.882</td>\n",
       "      <td>0.388</td>\n",
       "      <td>-0.134</td>\n",
       "      <td>3.955</td>\n",
       "      <td>-1.229</td>\n",
       "      <td>7.242</td>\n",
       "      <td>0</td>\n",
       "    </tr>\n",
       "    <tr>\n",
       "      <th>...</th>\n",
       "      <td>...</td>\n",
       "      <td>...</td>\n",
       "      <td>...</td>\n",
       "      <td>...</td>\n",
       "      <td>...</td>\n",
       "      <td>...</td>\n",
       "      <td>...</td>\n",
       "      <td>...</td>\n",
       "      <td>...</td>\n",
       "    </tr>\n",
       "    <tr>\n",
       "      <th>995</th>\n",
       "      <td>8.066</td>\n",
       "      <td>-2.877</td>\n",
       "      <td>7.388</td>\n",
       "      <td>0.685</td>\n",
       "      <td>2.896</td>\n",
       "      <td>8.327</td>\n",
       "      <td>-8.756</td>\n",
       "      <td>-10.457</td>\n",
       "      <td>1</td>\n",
       "    </tr>\n",
       "    <tr>\n",
       "      <th>996</th>\n",
       "      <td>-0.166</td>\n",
       "      <td>2.993</td>\n",
       "      <td>0.522</td>\n",
       "      <td>-0.814</td>\n",
       "      <td>-1.481</td>\n",
       "      <td>1.960</td>\n",
       "      <td>-1.329</td>\n",
       "      <td>7.132</td>\n",
       "      <td>0</td>\n",
       "    </tr>\n",
       "    <tr>\n",
       "      <th>997</th>\n",
       "      <td>8.752</td>\n",
       "      <td>-0.448</td>\n",
       "      <td>5.700</td>\n",
       "      <td>0.646</td>\n",
       "      <td>0.691</td>\n",
       "      <td>8.557</td>\n",
       "      <td>-8.200</td>\n",
       "      <td>-8.733</td>\n",
       "      <td>1</td>\n",
       "    </tr>\n",
       "    <tr>\n",
       "      <th>998</th>\n",
       "      <td>9.487</td>\n",
       "      <td>-3.419</td>\n",
       "      <td>4.947</td>\n",
       "      <td>-0.362</td>\n",
       "      <td>3.283</td>\n",
       "      <td>7.685</td>\n",
       "      <td>-10.102</td>\n",
       "      <td>-7.335</td>\n",
       "      <td>1</td>\n",
       "    </tr>\n",
       "    <tr>\n",
       "      <th>999</th>\n",
       "      <td>8.711</td>\n",
       "      <td>-2.375</td>\n",
       "      <td>5.830</td>\n",
       "      <td>1.262</td>\n",
       "      <td>-0.799</td>\n",
       "      <td>8.315</td>\n",
       "      <td>-9.812</td>\n",
       "      <td>-6.566</td>\n",
       "      <td>1</td>\n",
       "    </tr>\n",
       "  </tbody>\n",
       "</table>\n",
       "<p>1000 rows × 9 columns</p>\n",
       "</div>"
      ],
      "text/plain": [
       "        f1     f2     f3     f4     f5     f6      f7      f8  class\n",
       "0    3.126  4.214  2.787  0.832 -1.179  3.581  -2.353   7.805      0\n",
       "1    2.092  3.383  0.435  2.004 -2.525  2.232  -1.044   7.149      0\n",
       "2    1.029  3.944  0.059  0.011 -1.310  1.272  -1.005   7.435      0\n",
       "3    1.331  4.921  2.064  1.425 -1.073  1.088  -1.211   8.603      0\n",
       "4    0.699  5.428  1.882  0.388 -0.134  3.955  -1.229   7.242      0\n",
       "..     ...    ...    ...    ...    ...    ...     ...     ...    ...\n",
       "995  8.066 -2.877  7.388  0.685  2.896  8.327  -8.756 -10.457      1\n",
       "996 -0.166  2.993  0.522 -0.814 -1.481  1.960  -1.329   7.132      0\n",
       "997  8.752 -0.448  5.700  0.646  0.691  8.557  -8.200  -8.733      1\n",
       "998  9.487 -3.419  4.947 -0.362  3.283  7.685 -10.102  -7.335      1\n",
       "999  8.711 -2.375  5.830  1.262 -0.799  8.315  -9.812  -6.566      1\n",
       "\n",
       "[1000 rows x 9 columns]"
      ]
     },
     "execution_count": 12,
     "metadata": {},
     "output_type": "execute_result"
    }
   ],
   "source": [
    "data_file"
   ]
  },
  {
   "cell_type": "code",
   "execution_count": 162,
   "id": "b342605b",
   "metadata": {},
   "outputs": [
    {
     "data": {
      "image/png": "[encoded data removed]",
      "text/plain": [
       "<Figure size 432x288 with 1 Axes>"
      ]
     },
     "metadata": {
      "needs_background": "light"
     },
     "output_type": "display_data"
    },
    {
     "name": "stdout",
     "output_type": "stream",
     "text": [
      "this displays box plot information about my data_file\n"
     ]
    }
   ],
   "source": [
    "data_file.plot(kind='box')  #BOX_PLOT_PANDAS\n",
    "plt.show()\n",
    "print('this displays box plot information about my data_file')"
   ]
  },
  {
   "cell_type": "code",
   "execution_count": 161,
   "id": "c3d682ce",
   "metadata": {},
   "outputs": [
    {
     "data": {
      "image/png": "[encoded data removed]",
      "text/plain": [
       "<Figure size 432x288 with 1 Axes>"
      ]
     },
     "metadata": {
      "needs_background": "light"
     },
     "output_type": "display_data"
    },
    {
     "name": "stdout",
     "output_type": "stream",
     "text": [
      "this displays box plot information about my data_file \n"
     ]
    }
   ],
   "source": [
    "plt.boxplot(data_file)   #BOXPLOT_PYPLOT\n",
    "plt.show()\n",
    "print('this displays box plot information about my data_file ')"
   ]
  },
  {
   "cell_type": "code",
   "execution_count": 15,
   "id": "558effeb",
   "metadata": {
    "scrolled": true
   },
   "outputs": [
    {
     "data": {
      "text/plain": [
       "<AxesSubplot:>"
      ]
     },
     "execution_count": 15,
     "metadata": {},
     "output_type": "execute_result"
    },
    {
     "data": {
      "image/png": "[encoded data removed]",
      "text/plain": [
       "<Figure size 432x288 with 1 Axes>"
      ]
     },
     "metadata": {
      "needs_background": "light"
     },
     "output_type": "display_data"
    }
   ],
   "source": [
    "data_file.plot()   #ALLCOLUMNS\n"
   ]
  },
  {
   "cell_type": "code",
   "execution_count": 183,
   "id": "35b161cf",
   "metadata": {},
   "outputs": [
    {
     "data": {
      "text/plain": [
       "<AxesSubplot:xlabel='f1', ylabel='class'>"
      ]
     },
     "execution_count": 183,
     "metadata": {},
     "output_type": "execute_result"
    },
    {
     "data": {
      "image/png": "[encoded data removed]",
      "text/plain": [
       "<Figure size 432x288 with 1 Axes>"
      ]
     },
     "metadata": {
      "needs_background": "light"
     },
     "output_type": "display_data"
    }
   ],
   "source": [
    "data_file.plot.scatter(x='f1', y='class',c='blue')   #scatter\n"
   ]
  },
  {
   "cell_type": "code",
   "execution_count": 17,
   "id": "92ef221a",
   "metadata": {},
   "outputs": [
    {
     "data": {
      "text/plain": [
       "<AxesSubplot:xlabel='f2', ylabel='class'>"
      ]
     },
     "execution_count": 17,
     "metadata": {},
     "output_type": "execute_result"
    },
    {
     "data": {
      "image/png": "[encoded data removed]",
      "text/plain": [
       "<Figure size 432x288 with 1 Axes>"
      ]
     },
     "metadata": {
      "needs_background": "light"
     },
     "output_type": "display_data"
    }
   ],
   "source": [
    "data_file.plot.scatter(x='f2',y='class')"
   ]
  },
  {
   "cell_type": "code",
   "execution_count": 18,
   "id": "5625d57b",
   "metadata": {},
   "outputs": [
    {
     "data": {
      "text/plain": [
       "<AxesSubplot:xlabel='f8', ylabel='class'>"
      ]
     },
     "execution_count": 18,
     "metadata": {},
     "output_type": "execute_result"
    },
    {
     "data": {
      "image/png": "[encoded data removed]",
      "text/plain": [
       "<Figure size 432x288 with 1 Axes>"
      ]
     },
     "metadata": {
      "needs_background": "light"
     },
     "output_type": "display_data"
    }
   ],
   "source": [
    "data_file.plot.scatter(x='f8',y='class',c='grey')\n",
    "    "
   ]
  },
  {
   "cell_type": "code",
   "execution_count": 209,
   "id": "8be6e50e",
   "metadata": {},
   "outputs": [
    {
     "name": "stdout",
     "output_type": "stream",
     "text": [
      "           f1      f2      f3     f4      f5      f6      f7      f8  class\n",
      "f1     18.104 -13.627   7.996 -0.727   6.187  11.449 -15.044 -33.268  2.070\n",
      "f2    -13.627  11.876  -6.343  0.546  -4.951  -9.119  11.891  26.508 -1.647\n",
      "f3      7.996  -6.343   4.694 -0.373   2.905   5.341  -7.058 -15.476  0.965\n",
      "f4     -0.727   0.546  -0.373  0.993  -0.257  -0.520   0.593   1.375 -0.088\n",
      "f5      6.187  -4.951   2.905 -0.257   3.219   4.143  -5.400 -12.087  0.748\n",
      "f6     11.449  -9.119   5.341 -0.520   4.143   8.600 -10.068 -22.265  1.388\n",
      "f7    -15.044  11.891  -7.058  0.593  -5.400 -10.068  14.171  29.199 -1.816\n",
      "f8    -33.268  26.508 -15.476  1.375 -12.087 -22.265  29.199  65.657 -4.024\n",
      "class   2.070  -1.647   0.965 -0.088   0.748   1.388  -1.816  -4.024  0.250\n"
     ]
    }
   ],
   "source": [
    "covMatrix=data_file.cov()       #using pandas dataframe to show the covarience.\n",
    "print(covMatrix)\n"
   ]
  },
  {
   "cell_type": "code",
   "execution_count": 178,
   "id": "b842a8aa",
   "metadata": {},
   "outputs": [
    {
     "name": "stdout",
     "output_type": "stream",
     "text": [
      "[[ 8.59  7.13  6.95 ...  0.69  0.9   2.83]\n",
      " [ 7.13  6.96  6.49 ... -3.12 -3.47 -1.04]\n",
      " [ 6.95  6.49  6.86 ... -5.47 -5.44 -3.83]\n",
      " ...\n",
      " [ 0.69 -3.12 -5.47 ... 35.65 35.98 35.09]\n",
      " [ 0.9  -3.47 -5.44 ... 35.98 38.89 36.17]\n",
      " [ 2.83 -1.04 -3.83 ... 35.09 36.17 35.98]]\n"
     ]
    }
   ],
   "source": [
    "covMatrix=np.cov(data_file,bias='true')\n",
    "print(covMatrix)\n"
   ]
  },
  {
   "cell_type": "code",
   "execution_count": 212,
   "id": "939f115b",
   "metadata": {},
   "outputs": [
    {
     "data": {
      "image/png": "[encoded data removed]",
      "text/plain": [
       "<Figure size 432x288 with 1 Axes>"
      ]
     },
     "metadata": {
      "needs_background": "light"
     },
     "output_type": "display_data"
    }
   ],
   "source": [
    "data_file=np.cov(data_file,bias=\"true\")            #use pyplot from matplotloib to show the covarience.\n",
    "plt.scatter(data_file[:,0],data_file[:,1])\n",
    "plt.show()"
   ]
  },
  {
   "cell_type": "code",
   "execution_count": 213,
   "id": "fd9e0d0a",
   "metadata": {},
   "outputs": [],
   "source": [
    "import seaborn as sn                  #using seaborn,numpy and matplotblib to dispy covvarience"
   ]
  },
  {
   "cell_type": "code",
   "execution_count": 214,
   "id": "2e668ea2",
   "metadata": {},
   "outputs": [
    {
     "data": {
      "image/png": "[encoded data removed]",
      "text/plain": [
       "<Figure size 432x288 with 2 Axes>"
      ]
     },
     "metadata": {
      "needs_background": "light"
     },
     "output_type": "display_data"
    }
   ],
   "source": [
    "COV_MATRIX=np.cov(data_file,bias='true')\n",
    "sn.heatmap(COV_MATRIX, annot=True, fmt='g')\n",
    "plt.show()"
   ]
  },
  {
   "cell_type": "code",
   "execution_count": 64,
   "id": "b3b9df11",
   "metadata": {},
   "outputs": [],
   "source": [
    "#problem2 1.a\n",
    "from sklearn.preprocessing import StandardScaler\n",
    "from sklearn.model_selection import train_test_split"
   ]
  },
  {
   "cell_type": "code",
   "execution_count": 66,
   "id": "3508e702",
   "metadata": {},
   "outputs": [],
   "source": [
    "array1=data_file.values"
   ]
  },
  {
   "cell_type": "raw",
   "id": "d9bca8be",
   "metadata": {},
   "source": [
    "a=np.array([[1,2,3],[7,8,9]])"
   ]
  },
  {
   "cell_type": "raw",
   "id": "30333f27",
   "metadata": {},
   "source": [
    "array[:,]"
   ]
  },
  {
   "cell_type": "code",
   "execution_count": 67,
   "id": "c83e72c4",
   "metadata": {},
   "outputs": [
    {
     "data": {
      "text/plain": [
       "(1000, 9)"
      ]
     },
     "execution_count": 67,
     "metadata": {},
     "output_type": "execute_result"
    }
   ],
   "source": [
    "array1.shape\n"
   ]
  },
  {
   "cell_type": "code",
   "execution_count": 69,
   "id": "9717b6d2",
   "metadata": {},
   "outputs": [],
   "source": [
    "X = array[:,0:9]\n",
    "Y = array[:,8]"
   ]
  },
  {
   "cell_type": "code",
   "execution_count": 70,
   "id": "df127700",
   "metadata": {},
   "outputs": [],
   "source": [
    "#Splitting the data using train test split\n",
    "X_train, X_test, Y_train, Y_test = train_test_split(X, Y, test_size=0.3)"
   ]
  },
  {
   "cell_type": "code",
   "execution_count": 73,
   "id": "52eae074",
   "metadata": {},
   "outputs": [
    {
     "data": {
      "text/plain": [
       "(700, 9)"
      ]
     },
     "execution_count": 73,
     "metadata": {},
     "output_type": "execute_result"
    }
   ],
   "source": [
    "#Train Shape of the data\n",
    "X_train.shape\n"
   ]
  },
  {
   "cell_type": "code",
   "execution_count": 75,
   "id": "662c93ca",
   "metadata": {},
   "outputs": [
    {
     "data": {
      "text/plain": [
       "(300, 9)"
      ]
     },
     "execution_count": 75,
     "metadata": {},
     "output_type": "execute_result"
    }
   ],
   "source": [
    "#Test shape of the data\n",
    "X_test.shape\n"
   ]
  },
  {
   "cell_type": "code",
   "execution_count": 79,
   "id": "8b322487",
   "metadata": {},
   "outputs": [],
   "source": [
    "scaler=StandardScaler()\n",
    "X_train=scaler.fit_transform(X_train)\n",
    "np.set_printoptions(precision=2)\n",
    "\n"
   ]
  },
  {
   "cell_type": "code",
   "execution_count": 80,
   "id": "420e7f9d",
   "metadata": {},
   "outputs": [],
   "source": [
    "X_test=scaler.transform(X_test)\n"
   ]
  },
  {
   "cell_type": "code",
   "execution_count": 81,
   "id": "a16f21d0",
   "metadata": {},
   "outputs": [
    {
     "data": {
      "text/plain": [
       "array([[ 1.01, -0.93,  0.7 , ..., -1.16, -1.01,  1.03],\n",
       "       [ 1.28, -0.77,  1.47, ..., -1.36, -1.12,  1.03],\n",
       "       [ 1.23, -1.36,  1.83, ..., -1.2 , -1.33,  1.03],\n",
       "       ...,\n",
       "       [-0.96,  1.48, -1.19, ...,  1.28,  0.83, -0.97],\n",
       "       [ 0.96, -1.15,  0.86, ..., -1.21, -1.05,  1.03],\n",
       "       [ 1.04, -1.24,  0.87, ..., -1.17, -1.11,  1.03]])"
      ]
     },
     "execution_count": 81,
     "metadata": {},
     "output_type": "execute_result"
    }
   ],
   "source": [
    "X_train"
   ]
  },
  {
   "cell_type": "code",
   "execution_count": 84,
   "id": "0d23400a",
   "metadata": {},
   "outputs": [
    {
     "name": "stdout",
     "output_type": "stream",
     "text": [
      "the first five rows of transformed data: [[ 1.01 -0.93  0.7  -0.22  0.12  0.87 -1.16 -1.01  1.03]\n",
      " [ 1.28 -0.77  1.47  0.12  1.02  1.17 -1.36 -1.12  1.03]\n",
      " [ 1.23 -1.36  1.83  0.04  0.21  0.87 -1.2  -1.33  1.03]\n",
      " [-0.86  0.93 -1.44  1.4  -0.04 -0.87  0.99  1.26 -0.97]\n",
      " [ 0.7  -0.8   0.51 -0.77 -0.03  1.68 -0.79 -1.1   1.03]]\n"
     ]
    }
   ],
   "source": [
    "#printing the first five rows of my transformed data\n",
    "print('the first five rows of transformed data:', X_train[0:5])"
   ]
  },
  {
   "cell_type": "code",
   "execution_count": 85,
   "id": "7d6746b7",
   "metadata": {},
   "outputs": [],
   "source": [
    "#problem2.b #SelectKbest method and displaying first 5 rows of fetaure data with precsion 2 using f_Claassif\n",
    "\n",
    "from sklearn.feature_selection import SelectKBest, f_classif"
   ]
  },
  {
   "cell_type": "code",
   "execution_count": 86,
   "id": "bb345e2e",
   "metadata": {},
   "outputs": [],
   "source": [
    "array=data_file.values"
   ]
  },
  {
   "cell_type": "code",
   "execution_count": 87,
   "id": "7a5fb0d4",
   "metadata": {},
   "outputs": [
    {
     "data": {
      "text/plain": [
       "numpy.ndarray"
      ]
     },
     "execution_count": 87,
     "metadata": {},
     "output_type": "execute_result"
    }
   ],
   "source": [
    "type(array)"
   ]
  },
  {
   "cell_type": "code",
   "execution_count": 88,
   "id": "47b5e67c",
   "metadata": {},
   "outputs": [
    {
     "data": {
      "text/plain": [
       "pandas.core.frame.DataFrame"
      ]
     },
     "execution_count": 88,
     "metadata": {},
     "output_type": "execute_result"
    }
   ],
   "source": [
    "type(data_file)"
   ]
  },
  {
   "cell_type": "code",
   "execution_count": 89,
   "id": "61d58f94",
   "metadata": {},
   "outputs": [],
   "source": [
    "a=np.array([[1,2,3],[7,8,9]])"
   ]
  },
  {
   "cell_type": "code",
   "execution_count": 90,
   "id": "12e7fbc7",
   "metadata": {},
   "outputs": [
    {
     "data": {
      "text/plain": [
       "(2, 3)"
      ]
     },
     "execution_count": 90,
     "metadata": {},
     "output_type": "execute_result"
    }
   ],
   "source": [
    "a.shape"
   ]
  },
  {
   "cell_type": "code",
   "execution_count": 91,
   "id": "3916a854",
   "metadata": {},
   "outputs": [
    {
     "data": {
      "text/plain": [
       "(1000, 9)"
      ]
     },
     "execution_count": 91,
     "metadata": {},
     "output_type": "execute_result"
    }
   ],
   "source": [
    "array.shape"
   ]
  },
  {
   "cell_type": "code",
   "execution_count": 92,
   "id": "93c4d482",
   "metadata": {},
   "outputs": [
    {
     "data": {
      "text/plain": [
       "array([[  3.13,   4.21,   2.79, ...,  -2.35,   7.8 ,   0.  ],\n",
       "       [  2.09,   3.38,   0.43, ...,  -1.04,   7.15,   0.  ],\n",
       "       [  1.03,   3.94,   0.06, ...,  -1.01,   7.43,   0.  ],\n",
       "       ...,\n",
       "       [  8.75,  -0.45,   5.7 , ...,  -8.2 ,  -8.73,   1.  ],\n",
       "       [  9.49,  -3.42,   4.95, ..., -10.1 ,  -7.34,   1.  ],\n",
       "       [  8.71,  -2.38,   5.83, ...,  -9.81,  -6.57,   1.  ]])"
      ]
     },
     "execution_count": 92,
     "metadata": {},
     "output_type": "execute_result"
    }
   ],
   "source": [
    "array[:,]"
   ]
  },
  {
   "cell_type": "code",
   "execution_count": 93,
   "id": "8a6d7ab7",
   "metadata": {},
   "outputs": [],
   "source": [
    "X = array[:,0:9]\n",
    "Y = array[:,8]"
   ]
  },
  {
   "cell_type": "code",
   "execution_count": 94,
   "id": "c3c1e0e5",
   "metadata": {},
   "outputs": [
    {
     "data": {
      "text/plain": [
       "(1000, 9)"
      ]
     },
     "execution_count": 94,
     "metadata": {},
     "output_type": "execute_result"
    }
   ],
   "source": [
    "X.shape"
   ]
  },
  {
   "cell_type": "code",
   "execution_count": 95,
   "id": "073b5c82",
   "metadata": {},
   "outputs": [],
   "source": [
    "X_new = SelectKBest(f_classif, k=5).fit_transform(X, Y)"
   ]
  },
  {
   "cell_type": "code",
   "execution_count": 96,
   "id": "4a1da85a",
   "metadata": {},
   "outputs": [
    {
     "data": {
      "text/plain": [
       "(1000, 5)"
      ]
     },
     "execution_count": 96,
     "metadata": {},
     "output_type": "execute_result"
    }
   ],
   "source": [
    "X_new.shape"
   ]
  },
  {
   "cell_type": "code",
   "execution_count": 97,
   "id": "75ea5a17",
   "metadata": {},
   "outputs": [
    {
     "name": "stdout",
     "output_type": "stream",
     "text": [
      "\n",
      " the first five feautures are: \n",
      " [[ 3.13  4.21 -2.35  7.8   0.  ]\n",
      " [ 2.09  3.38 -1.04  7.15  0.  ]\n",
      " [ 1.03  3.94 -1.01  7.43  0.  ]\n",
      " [ 1.33  4.92 -1.21  8.6   0.  ]\n",
      " [ 0.7   5.43 -1.23  7.24  0.  ]]\n"
     ]
    }
   ],
   "source": [
    "np.set_printoptions(precision=2)\n",
    "print('\\n the first five feautures are: \\n', X_new[0:5])"
   ]
  },
  {
   "cell_type": "code",
   "execution_count": 98,
   "id": "9932cc94",
   "metadata": {},
   "outputs": [],
   "source": [
    "#Problem2.c #RFE with logistic regression and showing 5 features , support and ranking\n",
    "from sklearn.feature_selection import RFE\n",
    "from sklearn.linear_model import LogisticRegression\n",
    "from sklearn.model_selection import train_test_split"
   ]
  },
  {
   "cell_type": "code",
   "execution_count": 99,
   "id": "07eed680",
   "metadata": {},
   "outputs": [],
   "source": [
    "X_train, X_test, Y_train, Y_test = train_test_split(X, Y, test_size=0.3)"
   ]
  },
  {
   "cell_type": "code",
   "execution_count": 100,
   "id": "1ebba120",
   "metadata": {},
   "outputs": [
    {
     "data": {
      "text/plain": [
       "(700, 9)"
      ]
     },
     "execution_count": 100,
     "metadata": {},
     "output_type": "execute_result"
    }
   ],
   "source": [
    "X_train.shape"
   ]
  },
  {
   "cell_type": "code",
   "execution_count": 101,
   "id": "a775003e",
   "metadata": {},
   "outputs": [
    {
     "data": {
      "text/plain": [
       "(300, 9)"
      ]
     },
     "execution_count": 101,
     "metadata": {},
     "output_type": "execute_result"
    }
   ],
   "source": [
    "X_test.shape"
   ]
  },
  {
   "cell_type": "code",
   "execution_count": 102,
   "id": "3c49bd47",
   "metadata": {},
   "outputs": [],
   "source": [
    "model=LogisticRegression()"
   ]
  },
  {
   "cell_type": "code",
   "execution_count": 103,
   "id": "d734981b",
   "metadata": {},
   "outputs": [],
   "source": [
    "rfe = RFE(model, n_features_to_select=5)"
   ]
  },
  {
   "cell_type": "code",
   "execution_count": 104,
   "id": "f939426c",
   "metadata": {},
   "outputs": [],
   "source": [
    "\n",
    "selector=rfe.fit(X,Y)"
   ]
  },
  {
   "cell_type": "code",
   "execution_count": 105,
   "id": "322bd919",
   "metadata": {},
   "outputs": [],
   "source": [
    "import warnings\n",
    "warnings.filterwarnings('ignore')"
   ]
  },
  {
   "cell_type": "code",
   "execution_count": 106,
   "id": "2c899ce0",
   "metadata": {},
   "outputs": [
    {
     "data": {
      "text/plain": [
       "array([ True,  True, False, False, False,  True,  True,  True, False])"
      ]
     },
     "execution_count": 106,
     "metadata": {},
     "output_type": "execute_result"
    }
   ],
   "source": [
    "selector.support_"
   ]
  },
  {
   "cell_type": "code",
   "execution_count": 107,
   "id": "58b9196c",
   "metadata": {},
   "outputs": [
    {
     "data": {
      "text/plain": [
       "array([1, 1, 2, 5, 3, 1, 1, 1, 4])"
      ]
     },
     "execution_count": 107,
     "metadata": {},
     "output_type": "execute_result"
    }
   ],
   "source": [
    "selector.ranking_"
   ]
  },
  {
   "cell_type": "code",
   "execution_count": 108,
   "id": "412ac368",
   "metadata": {},
   "outputs": [],
   "source": [
    "#Problem.2.d #PCA #display 2 dimesions #varience ratio # singular values\n",
    "from sklearn.decomposition import PCA"
   ]
  },
  {
   "cell_type": "code",
   "execution_count": 109,
   "id": "2c6a4ffe",
   "metadata": {},
   "outputs": [],
   "source": [
    "pca_display=PCA(n_components=2,svd_solver='full')"
   ]
  },
  {
   "cell_type": "code",
   "execution_count": 110,
   "id": "ba31f6bc",
   "metadata": {},
   "outputs": [
    {
     "data": {
      "text/plain": [
       "PCA(n_components=2, svd_solver='full')"
      ]
     },
     "execution_count": 110,
     "metadata": {},
     "output_type": "execute_result"
    }
   ],
   "source": [
    "pca_display.fit(X)"
   ]
  },
  {
   "cell_type": "code",
   "execution_count": 111,
   "id": "c7f1b11c",
   "metadata": {},
   "outputs": [
    {
     "name": "stdout",
     "output_type": "stream",
     "text": [
      "[347.27  33.38]\n"
     ]
    }
   ],
   "source": [
    "print(pca_display.singular_values_)"
   ]
  },
  {
   "cell_type": "code",
   "execution_count": 112,
   "id": "78c8eb56",
   "metadata": {},
   "outputs": [
    {
     "name": "stdout",
     "output_type": "stream",
     "text": [
      "[0.95 0.01]\n"
     ]
    }
   ],
   "source": [
    "print(pca_display.explained_variance_ratio_)"
   ]
  },
  {
   "cell_type": "code",
   "execution_count": 125,
   "id": "650c0bc6",
   "metadata": {},
   "outputs": [],
   "source": [
    "#problem2.e #ExtraTreeclassifer and makeclassification\n",
    "from sklearn.ensemble import ExtraTreesClassifier\n",
    "\n"
   ]
  },
  {
   "cell_type": "code",
   "execution_count": 141,
   "id": "1dcc57e6",
   "metadata": {},
   "outputs": [],
   "source": [
    "#Selecting the model extra tree classifier\n",
    "model_1=ExtraTreesClassifier()"
   ]
  },
  {
   "cell_type": "code",
   "execution_count": 142,
   "id": "8594fe87",
   "metadata": {},
   "outputs": [],
   "source": [
    "\n",
    "display_model1=ExtraTreesClassifier(n_estimators=100)"
   ]
  },
  {
   "cell_type": "code",
   "execution_count": 143,
   "id": "e685fec3",
   "metadata": {
    "scrolled": true
   },
   "outputs": [
    {
     "name": "stdout",
     "output_type": "stream",
     "text": [
      "ExtraTreesClassifier()\n"
     ]
    }
   ],
   "source": [
    "print(display_model1)"
   ]
  },
  {
   "cell_type": "code",
   "execution_count": 139,
   "id": "daa9423d",
   "metadata": {
    "scrolled": true
   },
   "outputs": [
    {
     "name": "stdout",
     "output_type": "stream",
     "text": [
      "score: 1.0\n"
     ]
    }
   ],
   "source": [
    "#displaying the score for X_train and Y_train\n",
    "display_model1.fit(X_train,Y_train)\n",
    "score=display_model1.score(X_train,Y_train)\n",
    "print(\"score:\", score)"
   ]
  },
  {
   "cell_type": "code",
   "execution_count": null,
   "id": "c7411c51",
   "metadata": {},
   "outputs": [],
   "source": []
  },
  {
   "cell_type": "code",
   "execution_count": null,
   "id": "5460df00",
   "metadata": {},
   "outputs": [],
   "source": []
  }
 ],
 "metadata": {
  "kernelspec": {
   "display_name": "Python 3",
   "language": "python",
   "name": "python3"
  },
  "language_info": {
   "codemirror_mode": {
    "name": "ipython",
    "version": 3
   },
   "file_extension": ".py",
   "mimetype": "text/x-python",
   "name": "python",
   "nbconvert_exporter": "python",
   "pygments_lexer": "ipython3",
   "version": "3.8.8"
  }
 },
 "nbformat": 4,
 "nbformat_minor": 5
}
